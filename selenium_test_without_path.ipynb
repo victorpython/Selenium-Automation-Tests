{
 "cells": [
  {
   "cell_type": "code",
   "execution_count": 1,
   "id": "ef6d3c96-58e4-4751-ab62-04c7fc64ab68",
   "metadata": {},
   "outputs": [],
   "source": [
    "from selenium import webdriver\n",
    "from selenium.webdriver.chrome.service import Service\n",
    "from selenium.webdriver.common.by import By\n",
    "from selenium.webdriver.support.ui import WebDriverWait\n",
    "from selenium.webdriver.support import expected_conditions as EC\n",
    "import time, traceback\n",
    "import os"
   ]
  },
  {
   "cell_type": "code",
   "execution_count": 3,
   "id": "f9e5ce8e-a49f-40c8-9718-cf3398541682",
   "metadata": {},
   "outputs": [],
   "source": [
    "# Opciones necesarias para Chrome 111+\n",
    "options = webdriver.ChromeOptions()\n",
    "options.add_argument(\"--remote-allow-origins=*\")\n",
    "\n",
    "# Crear el Service y pasarlo al WebDriver\n",
    "driver = webdriver.Chrome(options=options)"
   ]
  },
  {
   "cell_type": "code",
   "execution_count": 5,
   "id": "69377a4c-ef30-4b35-ac9d-037e7746420c",
   "metadata": {},
   "outputs": [
    {
     "name": "stdout",
     "output_type": "stream",
     "text": [
      "🌐 URL validada -> https://www.selenium.dev/\n",
      "✅ Prueba exitosa: la palabra 'Selenium' está presente en https://www.selenium.dev/\n"
     ]
    }
   ],
   "source": [
    "try:\n",
    "    # ──────────────────────────────────────────────────────────────────────────\n",
    "    # Navegar al sitio de Selenium\n",
    "    # ──────────────────────────────────────────────────────────────────────────\n",
    "    driver.get(\"https://www.selenium.dev/\")\n",
    "\n",
    "    # ──────────────────────────────────────────────────────────────────────────\n",
    "    # Validar la URL actual\n",
    "    # ──────────────────────────────────────────────────────────────────────────\n",
    "    current_url = driver.current_url\n",
    "    assert \"selenium.dev\" in current_url, f\"URL inesperada: {current_url}\"\n",
    "    print(\"🌐 URL validada ->\", current_url)\n",
    "\n",
    "    # ──────────────────────────────────────────────────────────────────────────\n",
    "    # Esperar a que cargue el <body> \n",
    "    # ──────────────────────────────────────────────────────────────────────────\n",
    "    WebDriverWait(driver, 10).until(\n",
    "        EC.presence_of_element_located((By.TAG_NAME, \"body\"))\n",
    "    )\n",
    "\n",
    "    # ──────────────────────────────────────────────────────────────────────────\n",
    "    # Verificar que la palabra “Selenium” esté en el código fuente\n",
    "    # ──────────────────────────────────────────────────────────────────────────\n",
    "    html = driver.page_source\n",
    "    assert \"Selenium\" in html, \"La palabra 'Selenium' no se encontró en la página\"\n",
    "    print(\"✅ Prueba exitosa: la palabra 'Selenium' está presente en https://www.selenium.dev/\")\n",
    "\n",
    "except AssertionError as ae:\n",
    "    print(\"❌ FALLO DE VALIDACIÓN:\", ae)\n",
    "\n",
    "except Exception:\n",
    "    print(\"❌ ERROR DURANTE LA PRUEBA:\")\n",
    "    traceback.print_exc()\n",
    "\n",
    "finally:\n",
    "    driver.quit()"
   ]
  },
  {
   "cell_type": "code",
   "execution_count": null,
   "id": "4350c6dc-54ff-4196-845a-cb3f03f83b6a",
   "metadata": {},
   "outputs": [],
   "source": []
  }
 ],
 "metadata": {
  "kernelspec": {
   "display_name": "Python 3 (ipykernel)",
   "language": "python",
   "name": "python3"
  },
  "language_info": {
   "codemirror_mode": {
    "name": "ipython",
    "version": 3
   },
   "file_extension": ".py",
   "mimetype": "text/x-python",
   "name": "python",
   "nbconvert_exporter": "python",
   "pygments_lexer": "ipython3",
   "version": "3.9.19"
  }
 },
 "nbformat": 4,
 "nbformat_minor": 5
}
