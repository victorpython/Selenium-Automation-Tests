{
 "cells": [
  {
   "cell_type": "markdown",
   "id": "a073b6e3-966d-4963-95e3-0ec9393d755b",
   "metadata": {},
   "source": [
    "# ─────────────────────────────────────────────────────────────────────────────\n",
    "# Importación de librerías y configuración inicial\n",
    "# ─────────────────────────────────────────────────────────────────────────────"
   ]
  },
  {
   "cell_type": "code",
   "execution_count": 18,
   "id": "4d3eb46d-65f7-412b-8794-c6b4bbdf857f",
   "metadata": {},
   "outputs": [],
   "source": [
    "from selenium import webdriver\n",
    "from selenium.webdriver.common.by import By\n",
    "from selenium.webdriver.support.ui import WebDriverWait\n",
    "from selenium.webdriver.support import expected_conditions as EC\n",
    "import traceback"
   ]
  },
  {
   "cell_type": "markdown",
   "id": "918f9ff5-dad8-47d5-9e04-9920fe7c6cb7",
   "metadata": {},
   "source": [
    "# ─────────────────────────────────────────────────────────────────────────────\n",
    "# Función principal: configuración del WebDriver y flujo de la prueba\n",
    "# ─────────────────────────────────────────────────────────────────────────────"
   ]
  },
  {
   "cell_type": "code",
   "execution_count": 20,
   "id": "51ffcca3-8254-46f3-b2b7-641348b83208",
   "metadata": {},
   "outputs": [],
   "source": [
    "def main():\n",
    "    # Crear opciones de Chrome para permitir orígenes remotos\n",
    "    options = webdriver.ChromeOptions()\n",
    "    options.add_argument(\"--remote-allow-origins=*\")\n",
    "    # Inicializar el driver de Chrome con las opciones especificadas\n",
    "    driver = webdriver.Chrome(options=options)\n",
    "    # Espera implícita de 10 s para todas las búsquedas de elementos\n",
    "    driver.implicitly_wait(10)\n",
    "\n",
    "    try:\n",
    "        # Navegar a la página principal de Wikipedia\n",
    "        driver.get(\"https://www.wikipedia.org/\")\n",
    "\n",
    "        # Localizar el input de búsqueda por su ID y escribir el término deseado\n",
    "        driver.find_element(By.ID, \"searchInput\").send_keys(\"Selenium (software)\")\n",
    "        # Localizar el botón de búsqueda por su XPath y hacer clic en él\n",
    "        driver.find_element(By.XPATH, \"//button[@type='submit']\").click()\n",
    "\n",
    "        # Crear un WebDriverWait para esperas explícitas de hasta 10 s\n",
    "        wait = WebDriverWait(driver, 10)\n",
    "        # Esperar hasta que el encabezado principal esté presente en el DOM\n",
    "        heading = wait.until(EC.presence_of_element_located((By.CSS_SELECTOR, \"#firstHeading\")))\n",
    "\n",
    "        # Si el texto del encabezado indica que estamos en la página de resultados\n",
    "        if heading.text.strip().lower().startswith(\"resultados de la búsqueda\"):\n",
    "            # Hacer clic en el primer enlace de la lista de resultados\n",
    "            driver.find_element(By.CSS_SELECTOR, \".mw-search-result-heading a\").click()\n",
    "            # Volver a esperar a que el encabezado del artículo cargue\n",
    "            heading = wait.until(EC.presence_of_element_located((By.CSS_SELECTOR, \"#firstHeading\")))\n",
    "\n",
    "        # Validar que el título del artículo contenga la palabra “Selenium”\n",
    "        assert \"Selenium\" in heading.text, f\"Título inesperado: {heading.text}\"\n",
    "        # Imprimir mensaje de éxito indicando el título encontrado\n",
    "        print(\"✅ Prueba exitosa: título encontrado ->\", heading.text)\n",
    "\n",
    "    except AssertionError as ae:\n",
    "        # Capturar y mostrar fallos en la aserción\n",
    "        print(\"❌ FALLO DE VALIDACIÓN:\", ae)\n",
    "\n",
    "    except Exception:\n",
    "        # Capturar y mostrar cualquier otro tipo de excepción\n",
    "        print(\"❌ ERROR DURANTE LA PRUEBA:\")\n",
    "        traceback.print_exc()\n",
    "\n",
    "    finally:\n",
    "        # Cerrar el navegador sin importar el resultado\n",
    "        driver.quit()"
   ]
  },
  {
   "cell_type": "markdown",
   "id": "452eec6a-97ee-49da-9840-a67c42ca9301",
   "metadata": {},
   "source": [
    "# ─────────────────────────────────────────────────────────────────────────────\n",
    "# Punto de entrada: arranca la prueba cuando se ejecute este script\n",
    "# ─────────────────────────────────────────────────────────────────────────────"
   ]
  },
  {
   "cell_type": "code",
   "execution_count": 22,
   "id": "7aef4d12-22a8-4a1b-90c1-3c599835da7b",
   "metadata": {},
   "outputs": [
    {
     "name": "stdout",
     "output_type": "stream",
     "text": [
      "✅ Prueba exitosa: título encontrado -> Selenium\n"
     ]
    }
   ],
   "source": [
    "if __name__ == \"__main__\":\n",
    "    main()"
   ]
  },
  {
   "cell_type": "code",
   "execution_count": null,
   "id": "3a418135-9d6c-4d88-b138-2e7930314728",
   "metadata": {},
   "outputs": [],
   "source": []
  }
 ],
 "metadata": {
  "kernelspec": {
   "display_name": "Python 3 (ipykernel)",
   "language": "python",
   "name": "python3"
  },
  "language_info": {
   "codemirror_mode": {
    "name": "ipython",
    "version": 3
   },
   "file_extension": ".py",
   "mimetype": "text/x-python",
   "name": "python",
   "nbconvert_exporter": "python",
   "pygments_lexer": "ipython3",
   "version": "3.9.19"
  }
 },
 "nbformat": 4,
 "nbformat_minor": 5
}
